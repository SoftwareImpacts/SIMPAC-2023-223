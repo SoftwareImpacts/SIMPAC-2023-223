{
  "cells": [
    {
      "cell_type": "markdown",
      "metadata": {
        "id": "view-in-github",
        "colab_type": "text"
      },
      "source": [
        "<a href=\"https://colab.research.google.com/github/egy1st/denmune-clustering-algorithm/blob/main/characteristics/scalability_and_speed.ipynb\" target=\"_parent\"><img src=\"https://colab.research.google.com/assets/colab-badge.svg\" alt=\"Open In Colab\"/></a>"
      ]
    },
    {
      "cell_type": "code",
      "execution_count": 19,
      "metadata": {
        "id": "pUZYZD_3FzIg",
        "colab": {
          "base_uri": "https://localhost:8080/"
        },
        "outputId": "7ecd1762-b4fa-4a41-dc59-c478c9424186"
      },
      "outputs": [
        {
          "output_type": "stream",
          "name": "stdout",
          "text": [
            "mkdir: cannot create directory ‘data’: File exists\n"
          ]
        }
      ],
      "source": [
        "import time\n",
        "import os.path\n",
        "import requests\n",
        "import numpy as np\n",
        "from numpy import genfromtxt\n",
        "import matplotlib.pyplot as plt\n",
        "from sklearn import cluster, datasets, mixture\n",
        "\n",
        "!mkdir data #let us create data folder to hold our data"
      ]
    },
    {
      "cell_type": "code",
      "source": [
        "# install DenMune clustering algorithm using pip command from the offecial Python repository, PyPi\n",
        "# from https://pypi.org/project/denmune/\n",
        "!pip install denmune\n",
        "\n",
        "# now import it\n",
        "from denmune import DenMune"
      ],
      "metadata": {
        "id": "DRzZpZt8G2Mm"
      },
      "execution_count": null,
      "outputs": []
    },
    {
      "cell_type": "code",
      "execution_count": 31,
      "metadata": {
        "id": "e7l1O9DpFzIs",
        "outputId": "3769c71f-65a6-4a0f-98ae-66d4d61992a1",
        "colab": {
          "base_uri": "https://localhost:8080/"
        }
      },
      "outputs": [
        {
          "output_type": "stream",
          "name": "stdout",
          "text": [
            "data size: 100 time: 0.0304 seconds\n",
            "data size: 200 time: 0.0632 seconds\n",
            "data size: 300 time: 0.1008 seconds\n",
            "data size: 400 time: 0.119 seconds\n",
            "data size: 500 time: 0.1399 seconds\n",
            "data size: 600 time: 0.4311 seconds\n",
            "data size: 700 time: 0.3286 seconds\n",
            "data size: 800 time: 0.2554 seconds\n",
            "data size: 900 time: 0.4018 seconds\n",
            "data size: 1000 time: 0.4334 seconds\n",
            "data size: 1100 time: 0.4358 seconds\n",
            "data size: 1200 time: 0.4925 seconds\n",
            "data size: 1300 time: 0.5528 seconds\n",
            "data size: 1400 time: 0.4195 seconds\n",
            "data size: 1500 time: 0.8242 seconds\n",
            "data size: 1600 time: 0.6399 seconds\n",
            "data size: 1700 time: 0.7758 seconds\n",
            "data size: 1800 time: 0.7928 seconds\n",
            "data size: 1900 time: 0.8465 seconds\n",
            "data size: 2000 time: 0.9179 seconds\n",
            "data size: 2100 time: 0.9004 seconds\n",
            "data size: 2200 time: 1.1624 seconds\n",
            "data size: 2300 time: 0.9158 seconds\n",
            "data size: 2400 time: 0.9855 seconds\n",
            "data size: 2500 time: 1.252 seconds\n",
            "data size: 2600 time: 1.1364 seconds\n",
            "data size: 2700 time: 1.2537 seconds\n",
            "data size: 2800 time: 1.471 seconds\n",
            "data size: 2900 time: 1.5775 seconds\n",
            "data size: 3000 time: 1.5431 seconds\n",
            "data size: 3100 time: 1.5115 seconds\n",
            "data size: 3200 time: 1.629 seconds\n",
            "data size: 3300 time: 1.5792 seconds\n",
            "data size: 3400 time: 1.7021 seconds\n",
            "data size: 3500 time: 1.7093 seconds\n",
            "data size: 3600 time: 2.102 seconds\n",
            "data size: 3700 time: 1.7731 seconds\n",
            "data size: 3800 time: 2.2791 seconds\n",
            "data size: 3900 time: 2.3657 seconds\n",
            "data size: 4000 time: 2.1827 seconds\n",
            "data size: 4100 time: 2.5626 seconds\n",
            "data size: 4200 time: 2.5158 seconds\n",
            "data size: 4300 time: 2.5593 seconds\n",
            "data size: 4400 time: 2.3346 seconds\n",
            "data size: 4500 time: 2.5495 seconds\n",
            "data size: 4600 time: 2.764 seconds\n",
            "data size: 4700 time: 3.0448 seconds\n",
            "data size: 4800 time: 2.721 seconds\n",
            "data size: 4900 time: 2.6807 seconds\n",
            "data size: 5000 time: 3.6595 seconds\n",
            "data size: 5100 time: 3.4717 seconds\n",
            "data size: 5200 time: 3.3896 seconds\n",
            "data size: 5300 time: 3.1533 seconds\n",
            "data size: 5400 time: 3.8177 seconds\n",
            "data size: 5500 time: 3.8982 seconds\n",
            "data size: 5600 time: 3.663 seconds\n",
            "data size: 5700 time: 4.3088 seconds\n",
            "data size: 5800 time: 3.8156 seconds\n",
            "data size: 5900 time: 4.3536 seconds\n",
            "data size: 6000 time: 3.7884 seconds\n",
            "data size: 6100 time: 4.8303 seconds\n",
            "data size: 6200 time: 4.6028 seconds\n",
            "data size: 6300 time: 4.5295 seconds\n",
            "data size: 6400 time: 4.7931 seconds\n",
            "data size: 6500 time: 4.1172 seconds\n",
            "data size: 6600 time: 4.086 seconds\n",
            "data size: 6700 time: 5.4346 seconds\n",
            "data size: 6800 time: 5.6011 seconds\n",
            "data size: 6900 time: 6.3323 seconds\n",
            "data size: 7000 time: 4.7128 seconds\n",
            "data size: 7100 time: 5.0298 seconds\n",
            "data size: 7200 time: 5.8324 seconds\n",
            "data size: 7300 time: 5.8145 seconds\n",
            "data size: 7400 time: 5.4638 seconds\n",
            "data size: 7500 time: 6.0453 seconds\n",
            "data size: 7600 time: 6.3116 seconds\n",
            "data size: 7700 time: 6.3753 seconds\n",
            "data size: 7800 time: 6.5265 seconds\n",
            "data size: 7900 time: 6.807 seconds\n",
            "data size: 8000 time: 6.5415 seconds\n",
            "data size: 8100 time: 7.6165 seconds\n",
            "data size: 8200 time: 8.5078 seconds\n",
            "data size: 8300 time: 7.7608 seconds\n",
            "data size: 8400 time: 6.9853 seconds\n",
            "data size: 8500 time: 8.0062 seconds\n",
            "data size: 8600 time: 7.6191 seconds\n",
            "data size: 8700 time: 7.4601 seconds\n",
            "data size: 8800 time: 8.6417 seconds\n",
            "data size: 8900 time: 6.564 seconds\n",
            "data size: 9000 time: 8.702 seconds\n",
            "data size: 9100 time: 7.6738 seconds\n",
            "data size: 9200 time: 7.8663 seconds\n",
            "data size: 9300 time: 7.8025 seconds\n",
            "data size: 9400 time: 7.6822 seconds\n",
            "data size: 9500 time: 8.799 seconds\n",
            "data size: 9600 time: 9.5338 seconds\n",
            "data size: 9700 time: 9.7975 seconds\n",
            "data size: 9800 time: 7.8206 seconds\n",
            "data size: 9900 time: 9.6377 seconds\n"
          ]
        }
      ],
      "source": [
        "# Denmune's Paramaters\n",
        "verpose_mode = False # view in-depth analysis of time complexity and outlier detection, num of clusters\n",
        "show_plot = False  # show plots on/off\n",
        "show_noise = True # show noise and outlier on/off\n",
        "knn = 25\n",
        "data_scale = []\n",
        "\n",
        "for n in range(100, 10000, 100):\n",
        "    n_samples = n\n",
        "    noisy_circles = datasets.make_circles(n_samples=n_samples, factor=0.5, noise=0.05)\n",
        "    \n",
        "    data= noisy_circles[0]\n",
        "    data_labels = noisy_circles[1]\n",
        "    dm = DenMune(data=data, k_nearest=knn, verpose=verpose_mode, show_noise=show_noise, rgn_tsne=True)\n",
        "    labels_pred = dm.fit_predict()\n",
        "    time_exec = dm.analyzer['exec_time']['DenMune']\n",
        "    data_scale.append([n, time_exec ])\n",
        "\n",
        "    print('data size:',n ,  'time:' , round(time_exec,4), 'seconds')\n",
        "    "
      ]
    },
    {
      "cell_type": "code",
      "execution_count": 34,
      "metadata": {
        "id": "n43qOEsUFzIw"
      },
      "outputs": [],
      "source": [
        "x, y = zip(*data_scale)\n",
        "window = 10\n",
        "cumsum, moving_aves = [0], []\n",
        "\n",
        "for i, n in enumerate(y, 1):\n",
        "    cumsum.append(cumsum[i-1] + n)\n",
        "    if i>=window:\n",
        "        moving_ave = (cumsum[i] - cumsum[i-window])/window\n",
        "        #can do stuff with moving_ave here\n",
        "        moving_aves.append(moving_ave)\n",
        "y = moving_aves        "
      ]
    },
    {
      "cell_type": "code",
      "execution_count": 35,
      "metadata": {
        "id": "gEWlFCxEFzIx",
        "outputId": "e259aea0-7d2e-411e-a513-4942cb889176",
        "colab": {
          "base_uri": "https://localhost:8080/",
          "height": 514
        }
      },
      "outputs": [
        {
          "output_type": "display_data",
          "data": {
            "image/png": "[encoded data removed]",
            "text/plain": [
              "<Figure size 648x504 with 1 Axes>"
            ]
          },
          "metadata": {
            "needs_background": "light"
          }
        }
      ],
      "source": [
        "# Creating figure and axis objects using subplots()\n",
        "fig, ax = plt.subplots(figsize=[9, 7])\n",
        "ax.plot(x[:-window+1], y, marker='.', linewidth=2, label='DenMune Scalability')\n",
        "plt.xticks(rotation=60)\n",
        "ax.set_xlabel('Dataset size')\n",
        "ax.set_ylabel('Time in seconds')\n",
        "plt.legend()\n",
        "plt.show()"
      ]
    },
    {
      "cell_type": "code",
      "execution_count": null,
      "metadata": {
        "id": "3fO02SNUFzIz"
      },
      "outputs": [],
      "source": [
        ""
      ]
    }
  ],
  "metadata": {
    "kernelspec": {
      "display_name": "Python 3",
      "language": "python",
      "name": "python3"
    },
    "language_info": {
      "codemirror_mode": {
        "name": "ipython",
        "version": 3
      },
      "file_extension": ".py",
      "mimetype": "text/x-python",
      "name": "python",
      "nbconvert_exporter": "python",
      "pygments_lexer": "ipython3",
      "version": "3.7.3"
    },
    "colab": {
      "name": "scalability_and_speed.ipynb",
      "provenance": [],
      "collapsed_sections": [],
      "include_colab_link": true
    }
  },
  "nbformat": 4,
  "nbformat_minor": 0
}