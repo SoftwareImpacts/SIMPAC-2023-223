{
 "cells": [
  {
   "cell_type": "code",
   "execution_count": 1,
   "metadata": {},
   "outputs": [],
   "source": [
    "import os.path\n",
    "import time\n",
    "import numpy as np\n",
    "from numpy import genfromtxt\n",
    "import pandas as pd\n",
    "%matplotlib inline\n",
    "\n",
    "from functions import Functions"
   ]
  },
  {
   "cell_type": "code",
   "execution_count": 2,
   "metadata": {},
   "outputs": [],
   "source": [
    "func = Functions()\n",
    "from denmune import DenMuneCLS\n",
    "\n",
    "#['K', 'ACC', 'F1', 'NMI', 'adj_NMI', 'adj_Rand', 'Homogeneity', 'Completeness' ])    \n",
    "validity = {}\n",
    "validity['acc'] = 1\n",
    "validity['f1'] = 2\n",
    "validity['nmi'] =3\n",
    "validity['ami'] = 4\n",
    "validity['ari'] = 5\n",
    "validity['homo'] = 6\n",
    "validity['comp'] = 7"
   ]
  },
  {
   "cell_type": "code",
   "execution_count": 3,
   "metadata": {
    "scrolled": true
   },
   "outputs": [
    {
     "data": {
      "image/png": "[encoded data removed]",
      "text/plain": [
       "<Figure size 432x288 with 1 Axes>"
      ]
     },
     "metadata": {
      "needs_background": "light"
     },
     "output_type": "display_data"
    },
    {
     "name": "stdout",
     "output_type": "stream",
     "text": [
      "loop 10 F1 is 0.89769820971867 THE best F1 is 0.89769820971867 at KNN = k= 10   \r"
     ]
    },
    {
     "data": {
      "text/plain": [
       "<Figure size 432x288 with 0 Axes>"
      ]
     },
     "metadata": {},
     "output_type": "display_data"
    }
   ],
   "source": [
    "myvalidity = 'f1'\n",
    "alg_name = 'denmune'\n",
    "myvalidity_idx = validity[myvalidity]\n",
    "\n",
    "dataset = 'iris'\n",
    "file_path = 'data/'\n",
    "\n",
    "# DenMune works on a 2-d version of the original dimentional dataset.\n",
    "#Anyway, DenMune can works on any n-d dataset but it attain its best results on a 2-d redused vsesion\n",
    "\n",
    "file_2d = file_path + dataset + '-2d.txt'\n",
    "if  not os.path.isfile(file_2d):\n",
    "    func.generate_tsne(dataset, 2) \n",
    "    #this will generate a 2-d file of the tested dataset named dataset-2d.txt i.e. iris-2d.txt\n",
    "    \n",
    "    func.plot_clusters(data=data, labels=labels_true, alg_name='ground', dp_name=dataset +'-2d', show=False)\n",
    "\n",
    "\n",
    "\n",
    "    \n",
    "file_labels =  dataset +'-gt.txt' #dataset + '-gt.txt'\n",
    "max_knn  = 10\n",
    "\n",
    "start =10\n",
    "step =1\n",
    "end =  max_knn\n",
    "labels_pred = []\n",
    "\n",
    "\n",
    "file_save_pre = 'results/' + alg_name +'/csv/'  + alg_name\n",
    "file_save = file_save_pre + '_para_'  + dataset + '.csv'\n",
    "\n",
    "data = genfromtxt(file_path + dataset + '-2d'+ '.txt' , delimiter='\\t')\n",
    "labels_true = genfromtxt(file_path+file_labels)\n",
    "labels_true = labels_true.astype(np.int64)\n",
    "\n",
    "\n",
    "best_validity = -100\n",
    "best_knn = -1\n",
    "\n",
    "\n",
    "file_para = 'para_' + dataset + '.csv'\n",
    "df = pd.DataFrame(columns =['K', 'ACC', 'F1', 'NMI', 'AMI', 'ARI','Homogeneity', 'Completeness', 'Time' ])\n",
    "\n",
    "dp_dis = [] # it is a must to clear dp_dis before the loop\n",
    "\n",
    "\n",
    "for n in range(start, end+1, step):\n",
    "\n",
    "\n",
    "    solution_file = 'solution.txt'\n",
    "    if  os.path.isfile(solution_file):\n",
    "        os.remove(solution_file)\n",
    "\n",
    "    start_time= time.time()\n",
    "    py = DenMuneCLS(data=data, k_nearest=n, dp_dis=dp_dis, max_knn=max_knn)\n",
    "    dp_dis = py.save_Dis()\n",
    "    dp_data = py.save_Data()\n",
    "    end_time= time.time()\n",
    "\n",
    "    \n",
    "    labels_pred = []\n",
    "    labels_pred = genfromtxt(solution_file)\n",
    "    labels_pred = func.match_Labels(labels_pred, labels_true)\n",
    "\n",
    "    validity_index = func.calc_Metrics(labels_true, labels_pred)\n",
    "    if (best_validity < validity_index[myvalidity_idx]):\n",
    "        best_validity = validity_index[myvalidity_idx]\n",
    "        best_knn = 'k= ' + str(n)\n",
    "        func.plot_clusters(data=data, labels=labels_pred, alg_name=alg_name, dp_name=dataset, show=True)\n",
    "\n",
    "    validity_index[0]  = str(n)\n",
    "    validity_index[-1] = end_time-start_time\n",
    "\n",
    "    tmp_ext = ''\n",
    "    df = df.append(pd.Series(validity_index, index=df.columns ), ignore_index=True)\n",
    "    df.sort_values(by=['ACC', 'NMI', 'ARI'] , ascending=False, inplace=True)   \n",
    "    df.to_csv(file_save + tmp_ext, index=False, sep='\\t', header=True)\n",
    "\n",
    "    print('loop ' + str(n)  + ' ' + myvalidity.upper() + ' is ' + str(validity_index[myvalidity_idx]) + ' THE best ' + myvalidity.upper() + ' is ' + str(best_validity) + \" at KNN = \" + str(best_knn) + '   ', end='')            \n",
    "    func.backline()\n",
    "\n",
    "df.to_csv(file_save, index=False, sep='\\t', header=True)\n",
    "if tmp_ext != '':\n",
    "    os.remove(file_save +tmp_ext)"
   ]
  },
  {
   "cell_type": "code",
   "execution_count": 4,
   "metadata": {},
   "outputs": [
    {
     "data": {
      "text/plain": [
       "array([1, 1, 1, 1, 1, 1, 1, 1, 1, 1, 1, 1, 1, 1, 1, 1, 1, 1, 1, 1, 1, 1,\n",
       "       1, 1, 1, 1, 1, 1, 1, 1, 1, 1, 1, 1, 1, 1, 1, 1, 1, 1, 1, 1, 1, 1,\n",
       "       1, 1, 1, 1, 1, 1, 2, 2, 2, 2, 2, 2, 2, 2, 2, 2, 2, 2, 2, 2, 2, 2,\n",
       "       2, 2, 2, 2, 2, 2, 2, 2, 2, 2, 2, 2, 2, 2, 2, 2, 2, 2, 2, 2, 2, 2,\n",
       "       2, 2, 2, 2, 2, 2, 2, 2, 2, 2, 2, 2, 3, 2, 3, 3, 3, 3, 2, 3, 3, 3,\n",
       "       3, 3, 3, 2, 2, 3, 3, 3, 3, 2, 3, 2, 3, 2, 3, 3, 2, 2, 3, 3, 3, 3,\n",
       "       3, 2, 2, 3, 3, 3, 2, 3, 3, 3, 2, 3, 3, 3, 2, 3, 3, 2])"
      ]
     },
     "execution_count": 4,
     "metadata": {},
     "output_type": "execute_result"
    }
   ],
   "source": [
    "labels_pred\n"
   ]
  },
  {
   "cell_type": "code",
   "execution_count": 5,
   "metadata": {},
   "outputs": [
    {
     "data": {
      "text/plain": [
       "array([1, 1, 1, 1, 1, 1, 1, 1, 1, 1, 1, 1, 1, 1, 1, 1, 1, 1, 1, 1, 1, 1,\n",
       "       1, 1, 1, 1, 1, 1, 1, 1, 1, 1, 1, 1, 1, 1, 1, 1, 1, 1, 1, 1, 1, 1,\n",
       "       1, 1, 1, 1, 1, 1, 2, 2, 2, 2, 2, 2, 2, 2, 2, 2, 2, 2, 2, 2, 2, 2,\n",
       "       2, 2, 2, 2, 2, 2, 2, 2, 2, 2, 2, 2, 2, 2, 2, 2, 2, 2, 2, 2, 2, 2,\n",
       "       2, 2, 2, 2, 2, 2, 2, 2, 2, 2, 2, 2, 3, 3, 3, 3, 3, 3, 3, 3, 3, 3,\n",
       "       3, 3, 3, 3, 3, 3, 3, 3, 3, 3, 3, 3, 3, 3, 3, 3, 3, 3, 3, 3, 3, 3,\n",
       "       3, 3, 3, 3, 3, 3, 3, 3, 3, 3, 3, 3, 3, 3, 3, 3, 3, 3])"
      ]
     },
     "execution_count": 5,
     "metadata": {},
     "output_type": "execute_result"
    }
   ],
   "source": [
    "labels_true"
   ]
  },
  {
   "cell_type": "code",
   "execution_count": null,
   "metadata": {},
   "outputs": [],
   "source": []
  }
 ],
 "metadata": {
  "kernelspec": {
   "display_name": "Python 3",
   "language": "python",
   "name": "python3"
  },
  "language_info": {
   "codemirror_mode": {
    "name": "ipython",
    "version": 3
   },
   "file_extension": ".py",
   "mimetype": "text/x-python",
   "name": "python",
   "nbconvert_exporter": "python",
   "pygments_lexer": "ipython3",
   "version": "3.7.3"
  }
 },
 "nbformat": 4,
 "nbformat_minor": 4
}
