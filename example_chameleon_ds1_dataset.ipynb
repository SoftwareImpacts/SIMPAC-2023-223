{
 "cells": [
  {
   "cell_type": "code",
   "execution_count": null,
   "metadata": {},
   "outputs": [],
   "source": [
    "import time\n",
    "import os.path\n",
    "import requests"
   ]
  },
  {
   "cell_type": "code",
   "execution_count": null,
   "metadata": {
    "scrolled": true
   },
   "outputs": [],
   "source": [
    "# install DenMune clustering algorithm using pip command from the offecial Python repository, PyPi\n",
    "# from https://pypi.org/project/denmune/\n",
    "!pip install denmune\n",
    "\n",
    "# now import it\n",
    "from denmune.denmune import DenMune"
   ]
  },
  {
   "cell_type": "code",
   "execution_count": null,
   "metadata": {},
   "outputs": [],
   "source": [
    "dataset = 'cham_01' # let us take Chameleon DS1 dataset as an example\n",
    "\n",
    "url = \"https://zerobytes.one/denmune_data/\"\n",
    "file_ext = \".txt\"\n",
    "# ground_ext = \"-gt\" # no groundtruth for this dataset\n",
    "\n",
    "dataset_url = url + dataset + file_ext\n",
    "# groundtruth_url = url + dataset + ground_ext  + file_ext # no groundtruth for this dataset\n",
    "\n",
    "data_path = 'data/' # change it to whatever you put your data, set it to ''; so it will retrive from current folder\n",
    "if  not os.path.isfile(data_path + dataset + file_ext):\n",
    "    req = requests.get(dataset_url)\n",
    "    with open(data_path + dataset + file_ext, 'wb') as f:\n",
    "        f.write(req.content)"
   ]
  },
  {
   "cell_type": "code",
   "execution_count": null,
   "metadata": {},
   "outputs": [],
   "source": [
    "# Denmune's Paramaters\n",
    "# DenMune(dataset=dataset, k_nearest=n, data_path=data_path, verpose=verpose_mode, show_plot=show_plot, show_noise=show_noise)\n",
    "verpose_mode = True # view in-depth analysis of time complexity and outlier detection, num of clusters\n",
    "show_plot = True  # show plots on/off\n",
    "show_noise = True # show noise and outlier on/off\n",
    "\n",
    "# loop's parameters\n",
    "start = 5\n",
    "step = 5\n",
    "end=45\n",
    "\n",
    "for n in range(start, end+1, step):\n",
    "    start_time = time.time()\n",
    "    dm = DenMune(dataset=dataset, k_nearest=n, data_path=data_path, verpose=verpose_mode, show_noise=show_noise)\n",
    "    labels_true, labels_pred = dm.output_Clusters()\n",
    "    end_time = time.time()\n",
    "    \n",
    "   \n",
    "    if show_plot:\n",
    "        dm.plot_clusters(labels_pred, show_noise=show_noise)\n",
    "    print ('k=' , n , end='     ')\n",
    "            \n",
    "    if not verpose_mode:\n",
    "        print('\\r', end='')\n",
    "    else:\n",
    "        print('\\n', \"=====\" * 20 , '\\n')"
   ]
  },
  {
   "cell_type": "code",
   "execution_count": null,
   "metadata": {},
   "outputs": [],
   "source": []
  }
 ],
 "metadata": {
  "kernelspec": {
   "display_name": "Python 3",
   "language": "python",
   "name": "python3"
  },
  "language_info": {
   "codemirror_mode": {
    "name": "ipython",
    "version": 3
   },
   "file_extension": ".py",
   "mimetype": "text/x-python",
   "name": "python",
   "nbconvert_exporter": "python",
   "pygments_lexer": "ipython3",
   "version": "3.7.3"
  }
 },
 "nbformat": 4,
 "nbformat_minor": 4
}
