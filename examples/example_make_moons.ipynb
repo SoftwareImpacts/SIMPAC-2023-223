{
  "cells": [
    {
      "cell_type": "markdown",
      "metadata": {
        "id": "view-in-github",
        "colab_type": "text"
      },
      "source": [
        "<a href=\"https://colab.research.google.com/github/egy1st/denmune-clustering-algorithm/blob/main/example_make_moons.ipynb\" target=\"_parent\"><img src=\"https://colab.research.google.com/assets/colab-badge.svg\" alt=\"Open In Colab\"/></a>"
      ]
    },
    {
      "cell_type": "code",
      "execution_count": 1,
      "metadata": {
        "id": "FZgP6jwmzFtZ"
      },
      "outputs": [],
      "source": [
        "import time\n",
        "import os.path\n",
        "import requests\n",
        "from numpy import genfromtxt\n",
        "from sklearn import cluster, datasets, mixture\n",
        "from sklearn.datasets import make_moons, make_circles, make_classification, make_gaussian_quantiles\n",
        "import pandas as pd\n",
        "!mkdir data #let us create data folder to hold our data"
      ]
    },
    {
      "cell_type": "code",
      "execution_count": null,
      "metadata": {
        "scrolled": true,
        "id": "TIiMsyouzFth"
      },
      "outputs": [],
      "source": [
        "# install DenMune clustering algorithm using pip command from the offecial Python repository, PyPi\n",
        "# from https://pypi.org/project/denmune/\n",
        "!pip install denmune\n",
        "\n",
        "# now import it\n",
        "from denmune import DenMune"
      ]
    },
    {
      "cell_type": "code",
      "source": [
        "n_samples = 1500\n",
        "noisy_moons = datasets.make_moons(n_samples=n_samples, noise=0.05)\n",
        "pd.DataFrame(noisy_moons[0]).head()"
      ],
      "metadata": {
        "colab": {
          "base_uri": "https://localhost:8080/",
          "height": 206
        },
        "id": "DcqPQn0pxbvg",
        "outputId": "ec18e59b-88e6-42e8-be66-ead82b6b3e19"
      },
      "execution_count": 5,
      "outputs": [
        {
          "output_type": "execute_result",
          "data": {
            "text/html": [
              "\n",
              "  <div id=\"df-64986dfa-a3ab-4a29-95f0-2fee02393f81\">\n",
              "    <div class=\"colab-df-container\">\n",
              "      <div>\n",
              "<style scoped>\n",
              "    .dataframe tbody tr th:only-of-type {\n",
              "        vertical-align: middle;\n",
              "    }\n",
              "\n",
              "    .dataframe tbody tr th {\n",
              "        vertical-align: top;\n",
              "    }\n",
              "\n",
              "    .dataframe thead th {\n",
              "        text-align: right;\n",
              "    }\n",
              "</style>\n",
              "<table border=\"1\" class=\"dataframe\">\n",
              "  <thead>\n",
              "    <tr style=\"text-align: right;\">\n",
              "      <th></th>\n",
              "      <th>0</th>\n",
              "      <th>1</th>\n",
              "    </tr>\n",
              "  </thead>\n",
              "  <tbody>\n",
              "    <tr>\n",
              "      <th>0</th>\n",
              "      <td>0.671899</td>\n",
              "      <td>0.766804</td>\n",
              "    </tr>\n",
              "    <tr>\n",
              "      <th>1</th>\n",
              "      <td>0.521495</td>\n",
              "      <td>0.932264</td>\n",
              "    </tr>\n",
              "    <tr>\n",
              "      <th>2</th>\n",
              "      <td>-0.824034</td>\n",
              "      <td>0.375000</td>\n",
              "    </tr>\n",
              "    <tr>\n",
              "      <th>3</th>\n",
              "      <td>1.842396</td>\n",
              "      <td>-0.113866</td>\n",
              "    </tr>\n",
              "    <tr>\n",
              "      <th>4</th>\n",
              "      <td>1.979767</td>\n",
              "      <td>0.331428</td>\n",
              "    </tr>\n",
              "  </tbody>\n",
              "</table>\n",
              "</div>\n",
              "      <button class=\"colab-df-convert\" onclick=\"convertToInteractive('df-64986dfa-a3ab-4a29-95f0-2fee02393f81')\"\n",
              "              title=\"Convert this dataframe to an interactive table.\"\n",
              "              style=\"display:none;\">\n",
              "        \n",
              "  <svg xmlns=\"http://www.w3.org/2000/svg\" height=\"24px\"viewBox=\"0 0 24 24\"\n",
              "       width=\"24px\">\n",
              "    <path d=\"M0 0h24v24H0V0z\" fill=\"none\"/>\n",
              "    <path d=\"M18.56 5.44l.94 2.06.94-2.06 2.06-.94-2.06-.94-.94-2.06-.94 2.06-2.06.94zm-11 1L8.5 8.5l.94-2.06 2.06-.94-2.06-.94L8.5 2.5l-.94 2.06-2.06.94zm10 10l.94 2.06.94-2.06 2.06-.94-2.06-.94-.94-2.06-.94 2.06-2.06.94z\"/><path d=\"M17.41 7.96l-1.37-1.37c-.4-.4-.92-.59-1.43-.59-.52 0-1.04.2-1.43.59L10.3 9.45l-7.72 7.72c-.78.78-.78 2.05 0 2.83L4 21.41c.39.39.9.59 1.41.59.51 0 1.02-.2 1.41-.59l7.78-7.78 2.81-2.81c.8-.78.8-2.07 0-2.86zM5.41 20L4 18.59l7.72-7.72 1.47 1.35L5.41 20z\"/>\n",
              "  </svg>\n",
              "      </button>\n",
              "      \n",
              "  <style>\n",
              "    .colab-df-container {\n",
              "      display:flex;\n",
              "      flex-wrap:wrap;\n",
              "      gap: 12px;\n",
              "    }\n",
              "\n",
              "    .colab-df-convert {\n",
              "      background-color: #E8F0FE;\n",
              "      border: none;\n",
              "      border-radius: 50%;\n",
              "      cursor: pointer;\n",
              "      display: none;\n",
              "      fill: #1967D2;\n",
              "      height: 32px;\n",
              "      padding: 0 0 0 0;\n",
              "      width: 32px;\n",
              "    }\n",
              "\n",
              "    .colab-df-convert:hover {\n",
              "      background-color: #E2EBFA;\n",
              "      box-shadow: 0px 1px 2px rgba(60, 64, 67, 0.3), 0px 1px 3px 1px rgba(60, 64, 67, 0.15);\n",
              "      fill: #174EA6;\n",
              "    }\n",
              "\n",
              "    [theme=dark] .colab-df-convert {\n",
              "      background-color: #3B4455;\n",
              "      fill: #D2E3FC;\n",
              "    }\n",
              "\n",
              "    [theme=dark] .colab-df-convert:hover {\n",
              "      background-color: #434B5C;\n",
              "      box-shadow: 0px 1px 3px 1px rgba(0, 0, 0, 0.15);\n",
              "      filter: drop-shadow(0px 1px 2px rgba(0, 0, 0, 0.3));\n",
              "      fill: #FFFFFF;\n",
              "    }\n",
              "  </style>\n",
              "\n",
              "      <script>\n",
              "        const buttonEl =\n",
              "          document.querySelector('#df-64986dfa-a3ab-4a29-95f0-2fee02393f81 button.colab-df-convert');\n",
              "        buttonEl.style.display =\n",
              "          google.colab.kernel.accessAllowed ? 'block' : 'none';\n",
              "\n",
              "        async function convertToInteractive(key) {\n",
              "          const element = document.querySelector('#df-64986dfa-a3ab-4a29-95f0-2fee02393f81');\n",
              "          const dataTable =\n",
              "            await google.colab.kernel.invokeFunction('convertToInteractive',\n",
              "                                                     [key], {});\n",
              "          if (!dataTable) return;\n",
              "\n",
              "          const docLinkHtml = 'Like what you see? Visit the ' +\n",
              "            '<a target=\"_blank\" href=https://colab.research.google.com/notebooks/data_table.ipynb>data table notebook</a>'\n",
              "            + ' to learn more about interactive tables.';\n",
              "          element.innerHTML = '';\n",
              "          dataTable['output_type'] = 'display_data';\n",
              "          await google.colab.output.renderOutput(dataTable, element);\n",
              "          const docLink = document.createElement('div');\n",
              "          docLink.innerHTML = docLinkHtml;\n",
              "          element.appendChild(docLink);\n",
              "        }\n",
              "      </script>\n",
              "    </div>\n",
              "  </div>\n",
              "  "
            ],
            "text/plain": [
              "          0         1\n",
              "0  0.671899  0.766804\n",
              "1  0.521495  0.932264\n",
              "2 -0.824034  0.375000\n",
              "3  1.842396 -0.113866\n",
              "4  1.979767  0.331428"
            ]
          },
          "metadata": {},
          "execution_count": 5
        }
      ]
    },
    {
      "cell_type": "code",
      "source": [
        "data = noisy_moons[0]\n",
        "data_labels = noisy_moons[1]\n",
        "#file_2d = 'data/classification-2d.txt'"
      ],
      "metadata": {
        "id": "A9RcE4yHxjbN"
      },
      "execution_count": 6,
      "outputs": []
    },
    {
      "cell_type": "code",
      "execution_count": 9,
      "metadata": {
        "colab": {
          "base_uri": "https://localhost:8080/",
          "height": 1000
        },
        "id": "CiMDjLQJzFtj",
        "outputId": "47b306b4-8b12-41d9-efc9-2c34dc71ea3c"
      },
      "outputs": [
        {
          "output_type": "stream",
          "name": "stdout",
          "text": [
            "classification dataset : Groundtruht\n"
          ]
        },
        {
          "output_type": "display_data",
          "data": {
            "image/png": "[encoded data removed]",
            "text/plain": [
              "<Figure size 432x288 with 1 Axes>"
            ]
          },
          "metadata": {
            "needs_background": "light"
          }
        },
        {
          "output_type": "stream",
          "name": "stdout",
          "text": [
            "\n",
            " ==================================================================================================== \n",
            "\n",
            "classification dataset : DenMune Clustering\n"
          ]
        },
        {
          "output_type": "display_data",
          "data": {
            "image/png": "[encoded data removed]",
            "text/plain": [
              "<Figure size 432x288 with 1 Axes>"
            ]
          },
          "metadata": {
            "needs_background": "light"
          }
        },
        {
          "output_type": "stream",
          "name": "stdout",
          "text": [
            "DenMune Analyzer\n",
            "├── exec_time\n",
            "│   ├── DenMune: 0.479\n",
            "│   └── NGT: 0.037\n",
            "├── n_clusters\n",
            "│   ├── actual: 2\n",
            "│   └── detected: 2\n",
            "├── n_points\n",
            "│   ├── dim: 2\n",
            "│   ├── noise\n",
            "│   │   ├── type-1: 0\n",
            "│   │   └── type-2: 0\n",
            "│   ├── size: 1500\n",
            "│   ├── strong: 853\n",
            "│   └── weak\n",
            "│       ├── all: 647\n",
            "│       ├── failed to merge: 0\n",
            "│       └── succeeded to merge: 647\n",
            "└── validity\n",
            "    ├── ACC: 1500\n",
            "    ├── AMI: 1.0\n",
            "    ├── ARI: 1.0\n",
            "    ├── F1: 1.0\n",
            "    ├── NMI: 1.0\n",
            "    ├── completeness: 1.0\n",
            "    └── homogeneity: 1.0\n",
            "\n",
            "k= 24 F1 score is: 1.0\n"
          ]
        }
      ],
      "source": [
        "# Denmune's Paramaters\n",
        "verpose_mode = True # view in-depth analysis of time complexity and outlier detection, num of clusters\n",
        "show_groundtrugh = True  # show plots on/off\n",
        "show_noise = True # show noise and outlier on/off\n",
        "\n",
        "knn = 24\n",
        "dm = DenMune(data=data,  k_nearest=knn, verpose=verpose_mode, show_noise=show_noise, rgn_tsne=True )\n",
        "labels_pred = dm.fit_predict()\n",
        "\n",
        "if show_groundtrugh:\n",
        "    # Let us plot the groundtruth of this dataset\n",
        "    print (\"classification dataset\", \": Groundtruht\")\n",
        "    dm.plot_clusters(labels=data_labels, ground=True)\n",
        "    print('\\n', \"=====\" * 20 , '\\n')       \n",
        "\n",
        "# Let us plot the results produced using DenMune\n",
        "print (\"classification dataset\", \": DenMune Clustering\")\n",
        "dm.plot_clusters(labels=labels_pred, show_noise=show_noise)\n",
        "\n",
        "validity = dm.validate_Clusters(labels_true=data_labels, labels_pred=labels_pred)\n",
        "validity_key = \"F1\" \n",
        "# Acc=1, F1-score=2,  NMI=3, AMI=4, ARI=5,  Homogeneity=6, and Completeness=7       \n",
        "print ('k=' , knn, validity_key , 'score is:', round(validity[validity_key],3))"
      ]
    },
    {
      "cell_type": "code",
      "source": [
        ""
      ],
      "metadata": {
        "id": "ctTqktPl44c6"
      },
      "execution_count": null,
      "outputs": []
    }
  ],
  "metadata": {
    "kernelspec": {
      "display_name": "Python 3",
      "language": "python",
      "name": "python3"
    },
    "language_info": {
      "codemirror_mode": {
        "name": "ipython",
        "version": 3
      },
      "file_extension": ".py",
      "mimetype": "text/x-python",
      "name": "python",
      "nbconvert_exporter": "python",
      "pygments_lexer": "ipython3",
      "version": "3.7.3"
    },
    "colab": {
      "name": "example_make_moons.ipynb",
      "provenance": [],
      "collapsed_sections": [],
      "include_colab_link": true
    }
  },
  "nbformat": 4,
  "nbformat_minor": 0
}