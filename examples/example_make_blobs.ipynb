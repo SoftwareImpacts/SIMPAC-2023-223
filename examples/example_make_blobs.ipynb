{
  "cells": [
    {
      "cell_type": "markdown",
      "metadata": {
        "id": "view-in-github",
        "colab_type": "text"
      },
      "source": [
        "<a href=\"https://colab.research.google.com/github/egy1st/denmune-clustering-algorithm/blob/main/example_make_blobs.ipynb\" target=\"_parent\"><img src=\"https://colab.research.google.com/assets/colab-badge.svg\" alt=\"Open In Colab\"/></a>"
      ]
    },
    {
      "cell_type": "code",
      "execution_count": 9,
      "metadata": {
        "id": "FZgP6jwmzFtZ",
        "colab": {
          "base_uri": "https://localhost:8080/"
        },
        "outputId": "4d06b809-edcb-47f7-be29-3dca290e34e3"
      },
      "outputs": [
        {
          "output_type": "stream",
          "name": "stdout",
          "text": [
            "mkdir: cannot create directory ‘data’: File exists\n"
          ]
        }
      ],
      "source": [
        "import time\n",
        "import os.path\n",
        "import requests\n",
        "from numpy import genfromtxt\n",
        "from sklearn.datasets import make_blobs\n",
        "import pandas as pd\n",
        "!mkdir data #let us create data folder to hold our data"
      ]
    },
    {
      "cell_type": "code",
      "execution_count": null,
      "metadata": {
        "scrolled": true,
        "id": "TIiMsyouzFth"
      },
      "outputs": [],
      "source": [
        "# install DenMune clustering algorithm using pip command from the offecial Python repository, PyPi\n",
        "# from https://pypi.org/project/denmune/\n",
        "!pip install denmune\n",
        "\n",
        "# now import it\n",
        "from denmune import DenMune"
      ]
    },
    {
      "cell_type": "code",
      "source": [
        "blobs, labels = make_blobs(n_samples=500, centers=3, n_features=10, cluster_std=2, random_state=0)\n",
        "pd.DataFrame(blobs).head()"
      ],
      "metadata": {
        "colab": {
          "base_uri": "https://localhost:8080/",
          "height": 206
        },
        "id": "DcqPQn0pxbvg",
        "outputId": "a44b96f6-f8a0-4f50-e239-33c701eb7a29"
      },
      "execution_count": 14,
      "outputs": [
        {
          "output_type": "execute_result",
          "data": {
            "text/html": [
              "\n",
              "  <div id=\"df-e4746d45-62b1-40d1-9460-69ecc44d07a8\">\n",
              "    <div class=\"colab-df-container\">\n",
              "      <div>\n",
              "<style scoped>\n",
              "    .dataframe tbody tr th:only-of-type {\n",
              "        vertical-align: middle;\n",
              "    }\n",
              "\n",
              "    .dataframe tbody tr th {\n",
              "        vertical-align: top;\n",
              "    }\n",
              "\n",
              "    .dataframe thead th {\n",
              "        text-align: right;\n",
              "    }\n",
              "</style>\n",
              "<table border=\"1\" class=\"dataframe\">\n",
              "  <thead>\n",
              "    <tr style=\"text-align: right;\">\n",
              "      <th></th>\n",
              "      <th>0</th>\n",
              "      <th>1</th>\n",
              "      <th>2</th>\n",
              "      <th>3</th>\n",
              "      <th>4</th>\n",
              "      <th>5</th>\n",
              "      <th>6</th>\n",
              "      <th>7</th>\n",
              "      <th>8</th>\n",
              "      <th>9</th>\n",
              "    </tr>\n",
              "  </thead>\n",
              "  <tbody>\n",
              "    <tr>\n",
              "      <th>0</th>\n",
              "      <td>8.464776</td>\n",
              "      <td>-0.069017</td>\n",
              "      <td>1.756548</td>\n",
              "      <td>8.707434</td>\n",
              "      <td>-5.776232</td>\n",
              "      <td>-7.940546</td>\n",
              "      <td>-11.879435</td>\n",
              "      <td>4.030456</td>\n",
              "      <td>2.497293</td>\n",
              "      <td>3.976303</td>\n",
              "    </tr>\n",
              "    <tr>\n",
              "      <th>1</th>\n",
              "      <td>0.280346</td>\n",
              "      <td>1.597010</td>\n",
              "      <td>-0.010019</td>\n",
              "      <td>0.024167</td>\n",
              "      <td>-4.812835</td>\n",
              "      <td>2.105739</td>\n",
              "      <td>-2.318796</td>\n",
              "      <td>7.886270</td>\n",
              "      <td>11.581623</td>\n",
              "      <td>-1.986161</td>\n",
              "    </tr>\n",
              "    <tr>\n",
              "      <th>2</th>\n",
              "      <td>7.101569</td>\n",
              "      <td>-0.639732</td>\n",
              "      <td>0.908646</td>\n",
              "      <td>12.363544</td>\n",
              "      <td>-4.675757</td>\n",
              "      <td>-5.777533</td>\n",
              "      <td>-7.718462</td>\n",
              "      <td>4.613895</td>\n",
              "      <td>6.588259</td>\n",
              "      <td>6.682010</td>\n",
              "    </tr>\n",
              "    <tr>\n",
              "      <th>3</th>\n",
              "      <td>6.498527</td>\n",
              "      <td>4.858662</td>\n",
              "      <td>-3.969435</td>\n",
              "      <td>7.259363</td>\n",
              "      <td>-2.651539</td>\n",
              "      <td>4.822131</td>\n",
              "      <td>-7.695410</td>\n",
              "      <td>8.926791</td>\n",
              "      <td>2.744806</td>\n",
              "      <td>-2.908591</td>\n",
              "    </tr>\n",
              "    <tr>\n",
              "      <th>4</th>\n",
              "      <td>7.716717</td>\n",
              "      <td>9.796369</td>\n",
              "      <td>-2.834763</td>\n",
              "      <td>5.255861</td>\n",
              "      <td>-10.935268</td>\n",
              "      <td>-2.278602</td>\n",
              "      <td>-5.112753</td>\n",
              "      <td>9.064783</td>\n",
              "      <td>-3.030756</td>\n",
              "      <td>-4.987964</td>\n",
              "    </tr>\n",
              "  </tbody>\n",
              "</table>\n",
              "</div>\n",
              "      <button class=\"colab-df-convert\" onclick=\"convertToInteractive('df-e4746d45-62b1-40d1-9460-69ecc44d07a8')\"\n",
              "              title=\"Convert this dataframe to an interactive table.\"\n",
              "              style=\"display:none;\">\n",
              "        \n",
              "  <svg xmlns=\"http://www.w3.org/2000/svg\" height=\"24px\"viewBox=\"0 0 24 24\"\n",
              "       width=\"24px\">\n",
              "    <path d=\"M0 0h24v24H0V0z\" fill=\"none\"/>\n",
              "    <path d=\"M18.56 5.44l.94 2.06.94-2.06 2.06-.94-2.06-.94-.94-2.06-.94 2.06-2.06.94zm-11 1L8.5 8.5l.94-2.06 2.06-.94-2.06-.94L8.5 2.5l-.94 2.06-2.06.94zm10 10l.94 2.06.94-2.06 2.06-.94-2.06-.94-.94-2.06-.94 2.06-2.06.94z\"/><path d=\"M17.41 7.96l-1.37-1.37c-.4-.4-.92-.59-1.43-.59-.52 0-1.04.2-1.43.59L10.3 9.45l-7.72 7.72c-.78.78-.78 2.05 0 2.83L4 21.41c.39.39.9.59 1.41.59.51 0 1.02-.2 1.41-.59l7.78-7.78 2.81-2.81c.8-.78.8-2.07 0-2.86zM5.41 20L4 18.59l7.72-7.72 1.47 1.35L5.41 20z\"/>\n",
              "  </svg>\n",
              "      </button>\n",
              "      \n",
              "  <style>\n",
              "    .colab-df-container {\n",
              "      display:flex;\n",
              "      flex-wrap:wrap;\n",
              "      gap: 12px;\n",
              "    }\n",
              "\n",
              "    .colab-df-convert {\n",
              "      background-color: #E8F0FE;\n",
              "      border: none;\n",
              "      border-radius: 50%;\n",
              "      cursor: pointer;\n",
              "      display: none;\n",
              "      fill: #1967D2;\n",
              "      height: 32px;\n",
              "      padding: 0 0 0 0;\n",
              "      width: 32px;\n",
              "    }\n",
              "\n",
              "    .colab-df-convert:hover {\n",
              "      background-color: #E2EBFA;\n",
              "      box-shadow: 0px 1px 2px rgba(60, 64, 67, 0.3), 0px 1px 3px 1px rgba(60, 64, 67, 0.15);\n",
              "      fill: #174EA6;\n",
              "    }\n",
              "\n",
              "    [theme=dark] .colab-df-convert {\n",
              "      background-color: #3B4455;\n",
              "      fill: #D2E3FC;\n",
              "    }\n",
              "\n",
              "    [theme=dark] .colab-df-convert:hover {\n",
              "      background-color: #434B5C;\n",
              "      box-shadow: 0px 1px 3px 1px rgba(0, 0, 0, 0.15);\n",
              "      filter: drop-shadow(0px 1px 2px rgba(0, 0, 0, 0.3));\n",
              "      fill: #FFFFFF;\n",
              "    }\n",
              "  </style>\n",
              "\n",
              "      <script>\n",
              "        const buttonEl =\n",
              "          document.querySelector('#df-e4746d45-62b1-40d1-9460-69ecc44d07a8 button.colab-df-convert');\n",
              "        buttonEl.style.display =\n",
              "          google.colab.kernel.accessAllowed ? 'block' : 'none';\n",
              "\n",
              "        async function convertToInteractive(key) {\n",
              "          const element = document.querySelector('#df-e4746d45-62b1-40d1-9460-69ecc44d07a8');\n",
              "          const dataTable =\n",
              "            await google.colab.kernel.invokeFunction('convertToInteractive',\n",
              "                                                     [key], {});\n",
              "          if (!dataTable) return;\n",
              "\n",
              "          const docLinkHtml = 'Like what you see? Visit the ' +\n",
              "            '<a target=\"_blank\" href=https://colab.research.google.com/notebooks/data_table.ipynb>data table notebook</a>'\n",
              "            + ' to learn more about interactive tables.';\n",
              "          element.innerHTML = '';\n",
              "          dataTable['output_type'] = 'display_data';\n",
              "          await google.colab.output.renderOutput(dataTable, element);\n",
              "          const docLink = document.createElement('div');\n",
              "          docLink.innerHTML = docLinkHtml;\n",
              "          element.appendChild(docLink);\n",
              "        }\n",
              "      </script>\n",
              "    </div>\n",
              "  </div>\n",
              "  "
            ],
            "text/plain": [
              "          0         1         2  ...         7          8         9\n",
              "0  8.464776 -0.069017  1.756548  ...  4.030456   2.497293  3.976303\n",
              "1  0.280346  1.597010 -0.010019  ...  7.886270  11.581623 -1.986161\n",
              "2  7.101569 -0.639732  0.908646  ...  4.613895   6.588259  6.682010\n",
              "3  6.498527  4.858662 -3.969435  ...  8.926791   2.744806 -2.908591\n",
              "4  7.716717  9.796369 -2.834763  ...  9.064783  -3.030756 -4.987964\n",
              "\n",
              "[5 rows x 10 columns]"
            ]
          },
          "metadata": {},
          "execution_count": 14
        }
      ]
    },
    {
      "cell_type": "code",
      "source": [
        "data = blobs\n",
        "data_labels = labels\n",
        "file_2d = 'data/blobs-2d.txt'"
      ],
      "metadata": {
        "id": "A9RcE4yHxjbN"
      },
      "execution_count": 12,
      "outputs": []
    },
    {
      "cell_type": "code",
      "execution_count": 22,
      "metadata": {
        "colab": {
          "base_uri": "https://localhost:8080/",
          "height": 1000
        },
        "id": "CiMDjLQJzFtj",
        "outputId": "eec568d4-05bb-43ae-8c93-159f49957b3b"
      },
      "outputs": [
        {
          "output_type": "stream",
          "name": "stderr",
          "text": [
            "/usr/local/lib/python3.7/dist-packages/sklearn/manifold/_t_sne.py:793: FutureWarning: The default learning rate in TSNE will change from 200.0 to 'auto' in 1.2.\n",
            "  FutureWarning,\n"
          ]
        },
        {
          "output_type": "stream",
          "name": "stdout",
          "text": [
            "blobs dataset : Groundtruht\n"
          ]
        },
        {
          "output_type": "display_data",
          "data": {
            "image/png": "[encoded data removed]",
            "text/plain": [
              "<Figure size 432x288 with 1 Axes>"
            ]
          },
          "metadata": {
            "needs_background": "light"
          }
        },
        {
          "output_type": "stream",
          "name": "stdout",
          "text": [
            "\n",
            " ==================================================================================================== \n",
            "\n",
            "blobs dataset : DenMune Clustering\n"
          ]
        },
        {
          "output_type": "display_data",
          "data": {
            "image/png": "[encoded data removed]",
            "text/plain": [
              "<Figure size 432x288 with 1 Axes>"
            ]
          },
          "metadata": {
            "needs_background": "light"
          }
        },
        {
          "output_type": "stream",
          "name": "stdout",
          "text": [
            "DenMune Analyzer\n",
            "├── exec_time\n",
            "│   ├── DenMune: 0.092\n",
            "│   ├── NGT: 0.017\n",
            "│   └── t_SNE: 3.127\n",
            "├── n_clusters\n",
            "│   ├── actual: 3\n",
            "│   └── detected: 3\n",
            "├── n_points\n",
            "│   ├── dim: 10\n",
            "│   ├── noise\n",
            "│   │   ├── type-1: 0\n",
            "│   │   └── type-2: 2\n",
            "│   ├── size: 500\n",
            "│   ├── strong: 308\n",
            "│   └── weak\n",
            "│       ├── all: 192\n",
            "│       ├── failed to merge: 2\n",
            "│       └── succeeded to merge: 190\n",
            "└── validity\n",
            "    ├── ACC: 497\n",
            "    ├── AMI: 0.969\n",
            "    ├── ARI: 0.982\n",
            "    ├── F1: 0.994\n",
            "    ├── NMI: 0.969\n",
            "    ├── completeness: 0.969\n",
            "    └── homogeneity: 0.969\n",
            "\n",
            "k= 12 F1 score is: 0.994\n"
          ]
        }
      ],
      "source": [
        "# Denmune's Paramaters\n",
        "verpose_mode = True # view in-depth analysis of time complexity and outlier detection, num of clusters\n",
        "show_groundtrugh = True  # show plots on/off\n",
        "show_noise = True # show noise and outlier on/off\n",
        "\n",
        "knn = 12\n",
        "dm = DenMune(data=data,  file_2d=file_2d, k_nearest=knn, verpose=verpose_mode, show_noise=show_noise, rgn_tsne=True )\n",
        "labels_pred = dm.fit_predict()\n",
        "\n",
        "if show_groundtrugh:\n",
        "    # Let us plot the groundtruth of this dataset\n",
        "    print (\"blobs dataset\", \": Groundtruht\")\n",
        "    dm.plot_clusters(labels=data_labels, ground=True)\n",
        "    print('\\n', \"=====\" * 20 , '\\n')       \n",
        "\n",
        "# Let us plot the results produced using DenMune\n",
        "print (\"blobs dataset\", \": DenMune Clustering\")\n",
        "dm.plot_clusters(labels=labels_pred, show_noise=show_noise)\n",
        "\n",
        "validity = dm.validate_Clusters(labels_true=data_labels, labels_pred=labels_pred)\n",
        "validity_key = \"F1\" \n",
        "# Acc=1, F1-score=2,  NMI=3, AMI=4, ARI=5,  Homogeneity=6, and Completeness=7       \n",
        "print ('k=' , knn, validity_key , 'score is:', round(validity[validity_key],3))"
      ]
    }
  ],
  "metadata": {
    "kernelspec": {
      "display_name": "Python 3",
      "language": "python",
      "name": "python3"
    },
    "language_info": {
      "codemirror_mode": {
        "name": "ipython",
        "version": 3
      },
      "file_extension": ".py",
      "mimetype": "text/x-python",
      "name": "python",
      "nbconvert_exporter": "python",
      "pygments_lexer": "ipython3",
      "version": "3.7.3"
    },
    "colab": {
      "name": "example_make_blobs.ipynb",
      "provenance": [],
      "collapsed_sections": [],
      "include_colab_link": true
    }
  },
  "nbformat": 4,
  "nbformat_minor": 0
}