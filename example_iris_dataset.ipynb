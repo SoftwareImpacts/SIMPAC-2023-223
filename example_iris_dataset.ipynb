{
  "cells": [
    {
      "cell_type": "markdown",
      "metadata": {
        "id": "view-in-github",
        "colab_type": "text"
      },
      "source": [
        "<a href=\"https://colab.research.google.com/github/egy1st/denmune-clustering-algorithm/blob/main/example_iris_dataset.ipynb\" target=\"_parent\"><img src=\"https://colab.research.google.com/assets/colab-badge.svg\" alt=\"Open In Colab\"/></a>"
      ]
    },
    {
      "cell_type": "code",
      "execution_count": null,
      "metadata": {
        "id": "zaaLaJHT35Fd"
      },
      "outputs": [],
      "source": [
        "import time\n",
        "import os.path\n",
        "import requests\n",
        "from numpy import genfromtxt\n",
        "!mkdir data #let us create data folder to hold our data"
      ]
    },
    {
      "cell_type": "code",
      "execution_count": null,
      "metadata": {
        "scrolled": true,
        "id": "69XXeoif35Fn"
      },
      "outputs": [],
      "source": [
        "# install DenMune clustering algorithm using pip command from the offecial Python repository, PyPi\n",
        "# from https://pypi.org/project/denmune/\n",
        "!pip install denmune\n",
        "\n",
        "# now import it\n",
        "from denmune import DenMune"
      ]
    },
    {
      "cell_type": "code",
      "execution_count": null,
      "metadata": {
        "id": "H3H8DYwU35Fo"
      },
      "outputs": [],
      "source": [
        "dataset = 'iris' # let us take iris dataset as an example\n",
        "\n",
        "url = \"https://zerobytes.one/denmune_data/\"\n",
        "file_ext = \".txt\"\n",
        "ground_ext = \"-gt\"\n",
        "\n",
        "\n",
        "dataset_url = url + dataset + file_ext\n",
        "groundtruth_url = url + dataset + ground_ext  + file_ext\n",
        "\n",
        "data_path = 'data/' # change it to whatever you put your data, set it to ''; so it will retrive from current folder\n",
        "data_file = data_path + dataset + file_ext #  i.e. 'iris' + '.txt' ==> iris.txt\n",
        "\n",
        "data_path = 'data/' # change it to whatever you put your data, set it to ''; so it will retrive from current folder\n",
        "if  not os.path.isfile(data_path + dataset + file_ext):\n",
        "    req = requests.get(dataset_url)\n",
        "    with open(data_path + dataset + file_ext, 'wb') as f:\n",
        "        f.write(req.content)\n",
        "data = genfromtxt(data_file , delimiter='\\t') \n",
        "\n",
        "if  not os.path.isfile(data_path + dataset + ground_ext + file_ext):\n",
        "    req = requests.get(groundtruth_url)\n",
        "    with open(data_path + dataset +  ground_ext + file_ext, 'wb') as f:\n",
        "        f.write(req.content)    \n",
        "data_labels =  genfromtxt(groundtruth_url , delimiter='\\t') #  i.e. 'iris' + + '-gt + '.txt' ==> iris-gt.txt \n",
        "\n",
        "data2d_ext = '-2d'\n",
        "file_2d =  data_path + dataset + data2d_ext + file_ext # 'iris' + '-2d' + '.txt' ==> iris-2d.txt"
      ]
    },
    {
      "cell_type": "code",
      "execution_count": null,
      "metadata": {
        "colab": {
          "base_uri": "https://localhost:8080/",
          "height": 1000
        },
        "id": "xm54UWO835Fq",
        "outputId": "6e7bf769-05c4-47fc-89fd-bfe847adc066"
      },
      "outputs": [
        {
          "output_type": "stream",
          "name": "stderr",
          "text": [
            "/usr/local/lib/python3.7/dist-packages/sklearn/manifold/_t_sne.py:793: FutureWarning: The default learning rate in TSNE will change from 200.0 to 'auto' in 1.2.\n",
            "  FutureWarning,\n"
          ]
        },
        {
          "output_type": "stream",
          "name": "stdout",
          "text": [
            "Dataset's Groundtruth\n"
          ]
        },
        {
          "output_type": "display_data",
          "data": {
            "image/png": "[encoded data removed]",
            "text/plain": [
              "<Figure size 432x288 with 1 Axes>"
            ]
          },
          "metadata": {
            "needs_background": "light"
          }
        },
        {
          "output_type": "stream",
          "name": "stdout",
          "text": [
            "\n",
            " ==================================================================================================== \n",
            "\n",
            "DenMune Analyzer\n",
            "├── exec_time\n",
            "│   ├── DenMune: 0.022\n",
            "│   ├── NGT: 0.004\n",
            "│   └── t_SNE: 1.058\n",
            "├── n_clusters\n",
            "│   ├── actual: 3\n",
            "│   └── detected: 3\n",
            "├── n_points\n",
            "│   ├── dim: 4\n",
            "│   ├── noise\n",
            "│   │   ├── type-1: 0\n",
            "│   │   └── type-2: 0\n",
            "│   ├── size: 150\n",
            "│   ├── strong: 84\n",
            "│   └── weak\n",
            "│       ├── all: 66\n",
            "│       ├── failed to merge: 0\n",
            "│       └── succeeded to merge: 66\n",
            "└── validity\n",
            "    ├── ACC: 135\n",
            "    ├── AMI: 0.795\n",
            "    ├── ARI: 0.746\n",
            "    ├── F1: 0.898\n",
            "    ├── NMI: 0.798\n",
            "    ├── completeness: 0.809\n",
            "    └── homogeneity: 0.787\n",
            "\n"
          ]
        },
        {
          "output_type": "display_data",
          "data": {
            "image/png": "[encoded data removed]",
            "text/plain": [
              "<Figure size 432x288 with 1 Axes>"
            ]
          },
          "metadata": {
            "needs_background": "light"
          }
        },
        {
          "output_type": "stream",
          "name": "stdout",
          "text": [
            "k= 11 F1 score is: 0.898\n"
          ]
        }
      ],
      "source": [
        "# Denmune's Paramaters\n",
        "verpose_mode = True # view in-depth analysis of time complexity and outlier detection, num of clusters\n",
        "show_groundtrugh = True  # show plots on/off\n",
        "show_noise = True # show noise and outlier on/off\n",
        "\n",
        "knn = 11\n",
        "dm = DenMune(data=data, file_2d=file_2d,  k_nearest=knn, verpose=verpose_mode, show_noise=show_noise, rgn_tsne=False)\n",
        "\n",
        "if show_groundtrugh:\n",
        "    # Let us plot the groundtruth of this dataset which is reduced to 2-d using t-SNE\n",
        "    print (\"Dataset\\'s Groundtruth\")\n",
        "    dm.plot_clusters(labels=data_labels, ground=True)\n",
        "    print('\\n', \"=====\" * 20 , '\\n')       \n",
        "\n",
        "labels_pred = dm.fit_predict()\n",
        "validity = dm.validate_Clusters(labels_true=data_labels, labels_pred=labels_pred)\n",
        "\n",
        "dm.plot_clusters(labels=labels_pred, show_noise=show_noise)\n",
        "        \n",
        "validity_key = \"F1\"\n",
        "# Acc=1, F1-score=2,  NMI=3, AMI=4, ARI=5,  Homogeneity=6, and Completeness=7       \n",
        "print ('k=' , knn, validity_key , 'score is:', round(validity[validity_key],3))"
      ]
    }
  ],
  "metadata": {
    "kernelspec": {
      "display_name": "Python 3",
      "language": "python",
      "name": "python3"
    },
    "language_info": {
      "codemirror_mode": {
        "name": "ipython",
        "version": 3
      },
      "file_extension": ".py",
      "mimetype": "text/x-python",
      "name": "python",
      "nbconvert_exporter": "python",
      "pygments_lexer": "ipython3",
      "version": "3.7.3"
    },
    "colab": {
      "name": "example_iris_dataset.ipynb",
      "provenance": [],
      "collapsed_sections": [],
      "include_colab_link": true
    }
  },
  "nbformat": 4,
  "nbformat_minor": 0
}